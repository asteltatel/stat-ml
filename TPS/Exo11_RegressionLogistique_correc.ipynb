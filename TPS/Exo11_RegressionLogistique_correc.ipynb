{
 "cells": [
  {
   "cell_type": "markdown",
   "metadata": {},
   "source": [
    "## EXERCICE 11 : Régression logistique et explicabilité\n",
    "\n",
    "Vous voila maintenant prêts à utiliser vos connaissances méthodologiques et techniques pour l'étude de nouveaux cas. Nous allons maintenant tenter de distinguer des *8* et des *9* manuscrits à partir d'un modèle de régression logisique. Une fois le modèle appris et validé, nous expliquerons comment les décision sont prises en représentant les poids attribués aux différents pixels. \n"
   ]
  },
  {
   "cell_type": "code",
   "execution_count": 1,
   "metadata": {},
   "outputs": [
    {
     "name": "stdout",
     "output_type": "stream",
     "text": [
      "(200, 784)\n",
      "(200, 1)\n",
      "8.53\n",
      "(1800, 784)\n",
      "(1800, 1)\n",
      "8.51\n"
     ]
    },
    {
     "data": {
      "image/png": "[encoded data removed]",
      "text/plain": [
       "<Figure size 432x288 with 1 Axes>"
      ]
     },
     "metadata": {
      "needs_background": "light"
     },
     "output_type": "display_data"
    }
   ],
   "source": [
    "\n",
    "import numpy as np # to handle matrix and data operation\n",
    "import matplotlib.pyplot as plt   #image visualisation\n",
    "\n",
    "\n",
    "def ShowMNISTObservation(X_data,y_data,obsNb=0):\n",
    "  plt.clf()\n",
    "  plt.imshow(X_data[obsNb,:].reshape((28,28)),cmap='binary')\n",
    "  plt.title('Observation '+str(obsNb)+': Label '+str((y_data[obsNb,0])))\n",
    "  plt.show()\n",
    "\n",
    "\n",
    "    \n",
    "data=np.genfromtxt('./mnist_8_9.csv',delimiter=',')\n",
    "\n",
    "n_tot=data.shape[0]\n",
    "p=data.shape[1]\n",
    "\n",
    "y_train=data[:200,0].reshape(-1,1)\n",
    "X_train=data[:200,1:]\n",
    "\n",
    "y_test=data[200:,0].reshape(-1,1)\n",
    "X_test=data[200:,1:]\n",
    "\n",
    "\n",
    "print(X_train.shape)\n",
    "print(y_train.shape)\n",
    "print(np.mean(y_train))\n",
    "print(X_test.shape)\n",
    "print(y_test.shape)\n",
    "print(np.mean(y_test))\n",
    "\n",
    "ShowMNISTObservation(X_train,y_train,obsNb=0)\n"
   ]
  },
  {
   "cell_type": "markdown",
   "metadata": {},
   "source": [
    "### <span style=\"color:blue\">QUESTIONS</span> \n",
    "    \n",
    "#### <span style=\"color:blue\">QUESTION 1</span> \n",
    "    \n",
    "Bien comprendre la structuration des données dans l'exemple ci-dessus. Utilisez alors la classe de scikit-learn dédiée à la régression logistique pour apprendre à distinguer les 8 manuscrits les 9 manuscrits.\n",
    "    \n",
    "On notera que :\n",
    "- les algorithmes d'apprentissage automatique sont souvent pré-calibrés pour prendre en entrée des données centrées-réduites dans le cas de données *tableaux*, ou des valeurs entre 0 et 1 dans le cas des données *images*.\n",
    "- Les labels des deux classes en sortie (i.e. dans Y) seront 0 ou 1.\n",
    "\n",
    "#### <span style=\"color:blue\">REPONSE 1 </span> \n",
    "\n",
    "    \n",
    "\n",
    "\n"
   ]
  },
  {
   "cell_type": "code",
   "execution_count": 2,
   "metadata": {},
   "outputs": [],
   "source": [
    "#normalize the data\n",
    "max_intensity=np.max([ np.max(X_train),np.max(X_test) ])\n",
    "min_intensity=np.max([ np.min(X_train),np.min(X_test) ])\n",
    "\n",
    "X_train=(X_train-min_intensity)/(max_intensity-min_intensity)\n",
    "X_test=(X_test-min_intensity)/(max_intensity-min_intensity)\n",
    "\n",
    "y_train=1.*(y_train>8.5)\n",
    "y_test=1.*(y_test>8.5)\n"
   ]
  },
  {
   "cell_type": "code",
   "execution_count": 3,
   "metadata": {},
   "outputs": [
    {
     "data": {
      "text/plain": [
       "LogisticRegression()"
      ]
     },
     "execution_count": 3,
     "metadata": {},
     "output_type": "execute_result"
    }
   ],
   "source": [
    "#train the classifier\n",
    "from sklearn.linear_model import LogisticRegression\n",
    "\n",
    "\n",
    "regressor=LogisticRegression()\n",
    "\n",
    "regressor.fit(X_train,y_train.reshape(-1))\n"
   ]
  },
  {
   "cell_type": "markdown",
   "metadata": {},
   "source": [
    "On pourra remarquer que le nombre d'observations est inférieur à la dimension des observations. En regardant les paramètres par défaut de *LogisticRegression*, on peut voir que de la régularisation L2 est en fait utilisée. Le problème est ainsi bien posé."
   ]
  },
  {
   "cell_type": "markdown",
   "metadata": {},
   "source": [
    "\n",
    "#### <span style=\"color:blue\">QUESTION 2</span> \n",
    "\n",
    "Une fois les paramètres du classifieur appris, validez son efficacité. \n",
    "    \n",
    "#### <span style=\"color:blue\">REPONSE 2</span> \n"
   ]
  },
  {
   "cell_type": "code",
   "execution_count": 4,
   "metadata": {},
   "outputs": [
    {
     "name": "stdout",
     "output_type": "stream",
     "text": [
      "Percentage of false predictions on the training set:\n",
      "0.0\n",
      "\n",
      "Percentage of false predictions on the test set:\n",
      "2.944444444444444\n"
     ]
    }
   ],
   "source": [
    "y_train_pred=regressor.predict(X_train)\n",
    "y_test_pred=regressor.predict(X_test)\n",
    "\n",
    "print('Percentage of false predictions on the training set:')\n",
    "print(100*np.mean(y_train_pred-y_train.reshape(-1)))\n",
    "print('\\nPercentage of false predictions on the test set:')\n",
    "print(100*np.mean(y_test_pred-y_test.reshape(-1)))"
   ]
  },
  {
   "cell_type": "markdown",
   "metadata": {},
   "source": [
    "    \n",
    "#### <span style=\"color:blue\">QUESTION 3</span> \n",
    "\n",
    "Visualisez les poids attribués à chaque pixel dans le classifieur pour expliquer quels pixels sont les plus influents dans la prise de décision.\n",
    "    \n",
    "#### <span style=\"color:blue\">REPONSE 3</span> \n"
   ]
  },
  {
   "cell_type": "code",
   "execution_count": 5,
   "metadata": {},
   "outputs": [
    {
     "data": {
      "image/png": "[encoded data removed]",
      "text/plain": [
       "<Figure size 432x288 with 2 Axes>"
      ]
     },
     "metadata": {
      "needs_background": "light"
     },
     "output_type": "display_data"
    }
   ],
   "source": [
    "\n",
    "plt.clf()\n",
    "plt.imshow((regressor.coef_).reshape((28,28)),cmap='binary')\n",
    "plt.colorbar()\n",
    "plt.show()\n"
   ]
  },
  {
   "cell_type": "markdown",
   "metadata": {},
   "source": [
    "Résultat assez bruité et difficile à interpréter"
   ]
  },
  {
   "cell_type": "markdown",
   "metadata": {},
   "source": [
    "#### <span style=\"color:blue\">QUESTION 4</span> \n",
    "\n",
    "Régularisez le problème d'appentissage, de manière à utiliser par la suite moins de 10 pixels pour la prise de décision. Représentez alors ces pixels. La localisation de ces points automatiquement détectés, vous semble-t-elle avoir du sens ? La précision des prédiction est-elle beaucoup pénalisée ? \n",
    "    \n",
    "#### <span style=\"color:blue\">REPONSE 4</span> \n"
   ]
  },
  {
   "cell_type": "code",
   "execution_count": 6,
   "metadata": {},
   "outputs": [],
   "source": [
    "\n",
    "def regressorTrainer(CoefPenalty,X_train,y_train,X_test,y_test):\n",
    "    regressor=LogisticRegression(penalty='l1', C=CoefPenalty,solver='saga')\n",
    "    regressor.fit(X_train,y_train.reshape(-1))\n",
    "    y_train_pred=regressor.predict(X_train)\n",
    "    y_test_pred=regressor.predict(X_test)\n",
    "    \n",
    "    print('Percentage of false predictions on the training set:')\n",
    "    print(100*np.mean(y_train_pred-y_train.reshape(-1)))\n",
    "    print('\\nPercentage of false predictions on the test set:')\n",
    "    print(100*np.mean(y_test_pred-y_test.reshape(-1)))\n",
    "    print('\\nNumber of significant coefficients:')\n",
    "    print(np.sum((np.abs(regressor.coef_)>0.001)))\n",
    "    \n",
    "    return regressor\n",
    "\n"
   ]
  },
  {
   "cell_type": "code",
   "execution_count": 7,
   "metadata": {},
   "outputs": [
    {
     "name": "stdout",
     "output_type": "stream",
     "text": [
      "Percentage of false predictions on the training set:\n",
      "0.0\n",
      "\n",
      "Percentage of false predictions on the test set:\n",
      "4.666666666666667\n",
      "\n",
      "Number of significant coefficients:\n",
      "86\n"
     ]
    },
    {
     "name": "stderr",
     "output_type": "stream",
     "text": [
      "/Users/lrisser/opt/anaconda3/lib/python3.8/site-packages/sklearn/linear_model/_sag.py:329: ConvergenceWarning: The max_iter was reached which means the coef_ did not converge\n",
      "  warnings.warn(\"The max_iter was reached which means \"\n"
     ]
    }
   ],
   "source": [
    "\n",
    "regressor=regressorTrainer(1.,X_train,y_train,X_test,y_test)\n"
   ]
  },
  {
   "cell_type": "code",
   "execution_count": 8,
   "metadata": {},
   "outputs": [
    {
     "name": "stdout",
     "output_type": "stream",
     "text": [
      "Percentage of false predictions on the training set:\n",
      "4.0\n",
      "\n",
      "Percentage of false predictions on the test set:\n",
      "10.055555555555555\n",
      "\n",
      "Number of significant coefficients:\n",
      "14\n"
     ]
    },
    {
     "name": "stderr",
     "output_type": "stream",
     "text": [
      "/Users/lrisser/opt/anaconda3/lib/python3.8/site-packages/sklearn/linear_model/_sag.py:329: ConvergenceWarning: The max_iter was reached which means the coef_ did not converge\n",
      "  warnings.warn(\"The max_iter was reached which means \"\n"
     ]
    }
   ],
   "source": [
    "\n",
    "regressor=regressorTrainer(0.1,X_train,y_train,X_test,y_test)\n"
   ]
  },
  {
   "cell_type": "code",
   "execution_count": 9,
   "metadata": {},
   "outputs": [
    {
     "name": "stdout",
     "output_type": "stream",
     "text": [
      "Percentage of false predictions on the training set:\n",
      "7.5\n",
      "\n",
      "Percentage of false predictions on the test set:\n",
      "14.444444444444443\n",
      "\n",
      "Number of significant coefficients:\n",
      "9\n"
     ]
    },
    {
     "name": "stderr",
     "output_type": "stream",
     "text": [
      "/Users/lrisser/opt/anaconda3/lib/python3.8/site-packages/sklearn/linear_model/_sag.py:329: ConvergenceWarning: The max_iter was reached which means the coef_ did not converge\n",
      "  warnings.warn(\"The max_iter was reached which means \"\n"
     ]
    }
   ],
   "source": [
    "regressor=regressorTrainer(0.06,X_train,y_train,X_test,y_test)\n"
   ]
  },
  {
   "cell_type": "markdown",
   "metadata": {},
   "source": [
    "On garde celui là !"
   ]
  },
  {
   "cell_type": "code",
   "execution_count": 10,
   "metadata": {},
   "outputs": [
    {
     "data": {
      "image/png": "[encoded data removed]",
      "text/plain": [
       "<Figure size 432x288 with 2 Axes>"
      ]
     },
     "metadata": {
      "needs_background": "light"
     },
     "output_type": "display_data"
    }
   ],
   "source": [
    "plt.clf()\n",
    "plt.imshow((regressor.coef_).reshape((28,28)),cmap='binary')\n",
    "plt.colorbar()\n",
    "plt.show()\n",
    "\n"
   ]
  },
  {
   "cell_type": "markdown",
   "metadata": {},
   "source": [
    "\n",
    "La précision des résultats est déteriorée mais reste correcte si l'on tient compte du fait qu'on append sur peu de données vis à vis de la dimension, et surtout qu'on sélectionne un sous-ensemble très réduit de points à la vue de la variabilité spatiale des chiffres manuscrits. \n",
    "\n",
    "Plusieurs points ressortent particulièrement dans la zone en bas à gauche de là où sont représentés les chiffres manuscrits. C'est en effet là où on s'attend à avoir le plus de variabilité entre des 8 et des 9 manuscits !\n"
   ]
  },
  {
   "cell_type": "code",
   "execution_count": null,
   "metadata": {},
   "outputs": [],
   "source": [
    "\n",
    "\n",
    "\n",
    "\n"
   ]
  }
 ],
 "metadata": {
  "anaconda-cloud": {},
  "kernelspec": {
   "display_name": "Python 3 (ipykernel)",
   "language": "python",
   "name": "python3"
  },
  "language_info": {
   "codemirror_mode": {
    "name": "ipython",
    "version": 3
   },
   "file_extension": ".py",
   "mimetype": "text/x-python",
   "name": "python",
   "nbconvert_exporter": "python",
   "pygments_lexer": "ipython3",
   "version": "3.9.13"
  }
 },
 "nbformat": 4,
 "nbformat_minor": 4
}
