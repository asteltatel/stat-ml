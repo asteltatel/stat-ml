{
 "cells": [
  {
   "cell_type": "markdown",
   "metadata": {},
   "source": [
    "## EXERCICE 11 : Régression logistique et explicabilité\n",
    "\n",
    "Vous voila maintenant prêts à utiliser vos connaissances méthodologiques et techniques pour l'étude de nouveaux cas. Nous allons maintenant tenter de distinguer des *8* et des *9* manuscrits à partir d'un modèle de régression logisique. Une fois le modèle appris et validé, nous expliquerons comment les décision sont prises en représentant les poids attribués aux différents pixels. \n"
   ]
  },
  {
   "cell_type": "code",
   "execution_count": 4,
   "metadata": {},
   "outputs": [
    {
     "name": "stdout",
     "output_type": "stream",
     "text": [
      "(200, 784)\n",
      "(200, 1)\n",
      "8.53\n",
      "(1800, 784)\n",
      "(1800, 1)\n",
      "8.51\n"
     ]
    },
    {
     "data": {
      "image/png": "[encoded data removed]",
      "text/plain": [
       "<Figure size 640x480 with 1 Axes>"
      ]
     },
     "metadata": {},
     "output_type": "display_data"
    }
   ],
   "source": [
    "\n",
    "import numpy as np # to handle matrix and data operation\n",
    "import matplotlib.pyplot as plt   #image visualisation\n",
    "\n",
    "\n",
    "def ShowMNISTObservation(X_data,y_data,obsNb=0):\n",
    "  plt.clf()\n",
    "  plt.imshow(X_data[obsNb,:].reshape((28,28)),cmap='binary')\n",
    "  plt.title('Observation '+str(obsNb)+': Label '+str((y_data[obsNb,0])))\n",
    "  plt.show()\n",
    "\n",
    "\n",
    "    \n",
    "data=np.genfromtxt('data/mnist_8_9.csv',delimiter=',')\n",
    "\n",
    "n_tot=data.shape[0]\n",
    "p=data.shape[1]\n",
    "\n",
    "y_train=data[:200,0].reshape(-1,1)\n",
    "X_train=data[:200,1:]\n",
    "\n",
    "y_test=data[200:,0].reshape(-1,1)\n",
    "X_test=data[200:,1:]\n",
    "\n",
    "\n",
    "print(X_train.shape)\n",
    "print(y_train.shape)\n",
    "print(np.mean(y_train))\n",
    "print(X_test.shape)\n",
    "print(y_test.shape)\n",
    "print(np.mean(y_test))\n",
    "\n",
    "ShowMNISTObservation(X_train,y_train,obsNb=0)\n"
   ]
  },
  {
   "cell_type": "code",
   "execution_count": 3,
   "metadata": {},
   "outputs": [
    {
     "data": {
      "text/plain": [
       "array([[9., 0., 0., ..., 0., 0., 0.],\n",
       "       [8., 0., 0., ..., 0., 0., 0.],\n",
       "       [9., 0., 0., ..., 0., 0., 0.],\n",
       "       ...,\n",
       "       [9., 0., 0., ..., 0., 0., 0.],\n",
       "       [9., 0., 0., ..., 0., 0., 0.],\n",
       "       [8., 0., 0., ..., 0., 0., 0.]])"
      ]
     },
     "execution_count": 3,
     "metadata": {},
     "output_type": "execute_result"
    }
   ],
   "source": [
    "data"
   ]
  },
  {
   "cell_type": "markdown",
   "metadata": {},
   "source": [
    "### <span style=\"color:blue\">QUESTIONS</span> \n",
    "    \n",
    "#### <span style=\"color:blue\">QUESTION 1</span> \n",
    "    \n",
    "Bien comprendre la structuration des données dans l'exemple ci-dessus. Utilisez alors la classe de scikit-learn dédiée à la régression logistique pour apprendre à distinguer les 8 manuscrits les 9 manuscrits.\n",
    "    \n",
    "On notera que :\n",
    "- les algorithmes d'apprentissage automatique sont souvent pré-calibrés pour prendre en entrée des données centrées-réduites dans le cas de données *tableaux*, ou des valeurs entre 0 et 1 dans le cas des données *images*.\n",
    "- Les labels des deux classes en sortie (i.e. dans Y) seront 0 ou 1.\n",
    "\n",
    "#### <span style=\"color:blue\">REPONSE 1 </span> \n",
    "\n",
    "    \n",
    "\n",
    "\n"
   ]
  },
  {
   "cell_type": "code",
   "execution_count": 5,
   "metadata": {},
   "outputs": [
    {
     "name": "stdout",
     "output_type": "stream",
     "text": [
      "Accuracy: 96.06%\n"
     ]
    },
    {
     "name": "stderr",
     "output_type": "stream",
     "text": [
      "/Users/astel/mambaforge/envs/py-latest/lib/python3.12/site-packages/sklearn/utils/validation.py:1339: DataConversionWarning: A column-vector y was passed when a 1d array was expected. Please change the shape of y to (n_samples, ), for example using ravel().\n",
      "  y = column_or_1d(y, warn=True)\n"
     ]
    }
   ],
   "source": [
    "from sklearn.linear_model import LogisticRegression\n",
    "from sklearn.preprocessing import StandardScaler\n",
    "from sklearn.metrics import accuracy_score\n",
    "\n",
    "# Étape 1 : Normalisation des données (si vos pixels sont entre 0 et 255)\n",
    "X_train = X_train / 255.0  # Normalisation entre 0 et 1\n",
    "X_test = X_test / 255.0\n",
    "\n",
    "# Étape 2 : Binarisation des labels (Y contient 8 ou 9, on les remplace par 0 ou 1)\n",
    "y_train = (y_train == 9).astype(int)  # Si label est 9, devient 1, sinon 0\n",
    "y_test = (y_test == 9).astype(int)\n",
    "\n",
    "# Étape 4 : Appliquer la régression logistique\n",
    "model = LogisticRegression(max_iter=1000)  # max_iter pour s'assurer que l'algo converge\n",
    "\n",
    "# Étape 5 : Entraîner le modèle\n",
    "model.fit(X_train, y_train)\n",
    "\n",
    "# Étape 6 : Prédire les labels sur l'ensemble de test\n",
    "y_pred = model.predict(X_test)\n",
    "\n",
    "# Étape 7 : Évaluer la performance du modèle\n",
    "accuracy = accuracy_score(y_test, y_pred)\n",
    "print(f\"Accuracy: {accuracy * 100:.2f}%\")"
   ]
  },
  {
   "cell_type": "markdown",
   "metadata": {},
   "source": [
    "\n",
    "#### <span style=\"color:blue\">QUESTION 2</span> \n",
    "\n",
    "Une fois les paramètres du classifieur appris, validez son efficacité. \n",
    "    \n",
    "#### <span style=\"color:blue\">REPONSE 2</span> \n"
   ]
  },
  {
   "cell_type": "code",
   "execution_count": null,
   "metadata": {},
   "outputs": [],
   "source": [
    "#..."
   ]
  },
  {
   "cell_type": "markdown",
   "metadata": {},
   "source": [
    "    \n",
    "#### <span style=\"color:blue\">QUESTION 3</span> \n",
    "\n",
    "Visualisez les poids attribués à chaque pixel dans le classifieur pour expliquer quels pixels sont les plus influents dans la prise de décision.\n",
    "    \n",
    "#### <span style=\"color:blue\">REPONSE 3</span> \n"
   ]
  },
  {
   "cell_type": "code",
   "execution_count": 9,
   "metadata": {},
   "outputs": [
    {
     "data": {
      "image/png": "[encoded data removed]",
      "text/plain": [
       "<Figure size 640x480 with 2 Axes>"
      ]
     },
     "metadata": {},
     "output_type": "display_data"
    }
   ],
   "source": [
    "plt.clf()\n",
    "plt.imshow((model.coef_).reshape(28,28), cmap='binary')\n",
    "plt.colorbar()\n",
    "plt.show()"
   ]
  },
  {
   "cell_type": "code",
   "execution_count": 7,
   "metadata": {},
   "outputs": [
    {
     "data": {
      "text/plain": [
       "(1, 784)"
      ]
     },
     "execution_count": 7,
     "metadata": {},
     "output_type": "execute_result"
    }
   ],
   "source": [
    "model.coef_.shape"
   ]
  },
  {
   "cell_type": "markdown",
   "metadata": {},
   "source": [
    "#### <span style=\"color:blue\">QUESTION 4</span> \n",
    "\n",
    "Régularisez le problème d'appentissage, de manière à utiliser par la suite moins de 10 pixels pour la prise de décision. Représentez alors ces pixels. La localisation de ces points automatiquement détectés, vous semble-t-elle avoir du sens ? La précision des prédiction est-elle beaucoup pénalisée ? \n",
    "    \n",
    "#### <span style=\"color:blue\">REPONSE 4</span> \n"
   ]
  },
  {
   "cell_type": "code",
   "execution_count": null,
   "metadata": {},
   "outputs": [],
   "source": [
    "#..."
   ]
  }
 ],
 "metadata": {
  "anaconda-cloud": {},
  "kernelspec": {
   "display_name": "Python 3 (ipykernel)",
   "language": "python",
   "name": "python3"
  },
  "language_info": {
   "codemirror_mode": {
    "name": "ipython",
    "version": 3
   },
   "file_extension": ".py",
   "mimetype": "text/x-python",
   "name": "python",
   "nbconvert_exporter": "python",
   "pygments_lexer": "ipython3",
   "version": "3.12.6"
  }
 },
 "nbformat": 4,
 "nbformat_minor": 4
}
