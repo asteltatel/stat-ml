{
 "cells": [
  {
   "cell_type": "markdown",
   "metadata": {},
   "source": [
    "\n",
    "## EXERCICE 8 : Utilisation de Pandas et sklearn pour l'analyse de données réelles\n",
    "\n"
   ]
  },
  {
   "cell_type": "code",
   "execution_count": 2,
   "metadata": {},
   "outputs": [],
   "source": [
    "import pandas as pd\n",
    "import numpy as np\n",
    "import matplotlib.pyplot as plt\n",
    "from sklearn import preprocessing\n"
   ]
  },
  {
   "cell_type": "markdown",
   "metadata": {},
   "source": [
    "### Question 1 : \n",
    "- utiliser la fonction pandas.read_csv avec les bonnes options pour charger le fichier RealMedicalData.csv. On remarquera que le separateur dans le fichier csv est ';' et que les decimales sont representees par des virgules et non des points. Il est important de remarquer qu'un dataframe et non un numpy array sera retourne. Cette classe contient l'equivalent d'un numpy.array mais aussi le nom des lignes et colonnes, tout comme dans les dataframes de R\n",
    "- Extraire deux numpy.arrays X et y des donnes pour faire par la suite de la regression. Nous allons essayer d'expliquer  'Disease progression' avec les autres variables. Ce sera alors la colonne qui contient y. Les autres colonnes contiendront les donnees de X.\n",
    "- Une fois X et y extrait, centrer et reduire X. La fonction sklearn.preprocessing.scale pourra etre utilisee\n"
   ]
  },
  {
   "cell_type": "code",
   "execution_count": 55,
   "metadata": {},
   "outputs": [],
   "source": [
    "df = pd.read_csv('data/RealMedicalData.csv', sep=';', decimal=',')"
   ]
  },
  {
   "cell_type": "code",
   "execution_count": 56,
   "metadata": {},
   "outputs": [
    {
     "data": {
      "text/html": [
       "<div>\n",
       "<style scoped>\n",
       "    .dataframe tbody tr th:only-of-type {\n",
       "        vertical-align: middle;\n",
       "    }\n",
       "\n",
       "    .dataframe tbody tr th {\n",
       "        vertical-align: top;\n",
       "    }\n",
       "\n",
       "    .dataframe thead th {\n",
       "        text-align: right;\n",
       "    }\n",
       "</style>\n",
       "<table border=\"1\" class=\"dataframe\">\n",
       "  <thead>\n",
       "    <tr style=\"text-align: right;\">\n",
       "      <th></th>\n",
       "      <th>Acid 1 density</th>\n",
       "      <th>Acid 2 density</th>\n",
       "      <th>Acid 3 density</th>\n",
       "      <th>Cells 1 density</th>\n",
       "      <th>Cells 2 density</th>\n",
       "      <th>Pressure 1</th>\n",
       "      <th>Pressure 2</th>\n",
       "      <th>Bio-marker 1</th>\n",
       "      <th>Bio-marker 2</th>\n",
       "      <th>Biomarker 3</th>\n",
       "      <th>Biomarker 4</th>\n",
       "      <th>Biomarker 5</th>\n",
       "      <th>Biomarker 6</th>\n",
       "      <th>Biomarker 6.1</th>\n",
       "      <th>Biomarker 7</th>\n",
       "      <th>Biomarker 8</th>\n",
       "      <th>Biomarker 9</th>\n",
       "      <th>Biomarker 10</th>\n",
       "      <th>Disease progression</th>\n",
       "    </tr>\n",
       "  </thead>\n",
       "  <tbody>\n",
       "    <tr>\n",
       "      <th>0</th>\n",
       "      <td>11.6</td>\n",
       "      <td>6.4</td>\n",
       "      <td>4.3</td>\n",
       "      <td>7.2</td>\n",
       "      <td>14.4</td>\n",
       "      <td>19.26</td>\n",
       "      <td>39.32</td>\n",
       "      <td>50.00</td>\n",
       "      <td>13.040000</td>\n",
       "      <td>0.20</td>\n",
       "      <td>0.0440</td>\n",
       "      <td>2.44</td>\n",
       "      <td>2.209</td>\n",
       "      <td>9.02</td>\n",
       "      <td>0.26</td>\n",
       "      <td>1.23</td>\n",
       "      <td>3.56</td>\n",
       "      <td>16.91</td>\n",
       "      <td>6</td>\n",
       "    </tr>\n",
       "    <tr>\n",
       "      <th>1</th>\n",
       "      <td>15.5</td>\n",
       "      <td>10.5</td>\n",
       "      <td>4.9</td>\n",
       "      <td>6.9</td>\n",
       "      <td>13.7</td>\n",
       "      <td>8.57</td>\n",
       "      <td>36.78</td>\n",
       "      <td>22.57</td>\n",
       "      <td>18.713333</td>\n",
       "      <td>0.51</td>\n",
       "      <td>0.8501</td>\n",
       "      <td>2.32</td>\n",
       "      <td>0.339</td>\n",
       "      <td>22.43</td>\n",
       "      <td>0.10</td>\n",
       "      <td>0.56</td>\n",
       "      <td>7.06</td>\n",
       "      <td>-3.47</td>\n",
       "      <td>6</td>\n",
       "    </tr>\n",
       "    <tr>\n",
       "      <th>2</th>\n",
       "      <td>15.3</td>\n",
       "      <td>6.5</td>\n",
       "      <td>4.2</td>\n",
       "      <td>6.4</td>\n",
       "      <td>13.6</td>\n",
       "      <td>13.48</td>\n",
       "      <td>25.90</td>\n",
       "      <td>8.25</td>\n",
       "      <td>8.246667</td>\n",
       "      <td>0.27</td>\n",
       "      <td>0.9629</td>\n",
       "      <td>2.83</td>\n",
       "      <td>0.339</td>\n",
       "      <td>17.94</td>\n",
       "      <td>0.13</td>\n",
       "      <td>0.59</td>\n",
       "      <td>3.20</td>\n",
       "      <td>10.05</td>\n",
       "      <td>10</td>\n",
       "    </tr>\n",
       "    <tr>\n",
       "      <th>3</th>\n",
       "      <td>13.4</td>\n",
       "      <td>7.7</td>\n",
       "      <td>4.1</td>\n",
       "      <td>5.8</td>\n",
       "      <td>14.2</td>\n",
       "      <td>15.23</td>\n",
       "      <td>44.36</td>\n",
       "      <td>11.09</td>\n",
       "      <td>11.093333</td>\n",
       "      <td>0.67</td>\n",
       "      <td>-0.2756</td>\n",
       "      <td>5.06</td>\n",
       "      <td>1.611</td>\n",
       "      <td>11.38</td>\n",
       "      <td>0.20</td>\n",
       "      <td>0.88</td>\n",
       "      <td>4.33</td>\n",
       "      <td>-3.62</td>\n",
       "      <td>18</td>\n",
       "    </tr>\n",
       "    <tr>\n",
       "      <th>4</th>\n",
       "      <td>16.0</td>\n",
       "      <td>5.2</td>\n",
       "      <td>3.2</td>\n",
       "      <td>5.7</td>\n",
       "      <td>12.8</td>\n",
       "      <td>8.37</td>\n",
       "      <td>19.62</td>\n",
       "      <td>7.44</td>\n",
       "      <td>6.386667</td>\n",
       "      <td>0.24</td>\n",
       "      <td>-0.6928</td>\n",
       "      <td>1.59</td>\n",
       "      <td>0.659</td>\n",
       "      <td>8.56</td>\n",
       "      <td>0.27</td>\n",
       "      <td>1.20</td>\n",
       "      <td>4.57</td>\n",
       "      <td>1.56</td>\n",
       "      <td>7</td>\n",
       "    </tr>\n",
       "  </tbody>\n",
       "</table>\n",
       "</div>"
      ],
      "text/plain": [
       "   Acid 1 density  Acid 2 density  Acid 3 density  Cells 1 density  \\\n",
       "0            11.6             6.4             4.3              7.2   \n",
       "1            15.5            10.5             4.9              6.9   \n",
       "2            15.3             6.5             4.2              6.4   \n",
       "3            13.4             7.7             4.1              5.8   \n",
       "4            16.0             5.2             3.2              5.7   \n",
       "\n",
       "   Cells 2 density  Pressure 1  Pressure 2  Bio-marker 1  Bio-marker 2  \\\n",
       "0             14.4       19.26       39.32         50.00     13.040000   \n",
       "1             13.7        8.57       36.78         22.57     18.713333   \n",
       "2             13.6       13.48       25.90          8.25      8.246667   \n",
       "3             14.2       15.23       44.36         11.09     11.093333   \n",
       "4             12.8        8.37       19.62          7.44      6.386667   \n",
       "\n",
       "   Biomarker 3  Biomarker 4  Biomarker 5  Biomarker 6  Biomarker 6.1  \\\n",
       "0         0.20       0.0440         2.44        2.209           9.02   \n",
       "1         0.51       0.8501         2.32        0.339          22.43   \n",
       "2         0.27       0.9629         2.83        0.339          17.94   \n",
       "3         0.67      -0.2756         5.06        1.611          11.38   \n",
       "4         0.24      -0.6928         1.59        0.659           8.56   \n",
       "\n",
       "   Biomarker 7  Biomarker 8  Biomarker 9  Biomarker 10  Disease progression  \n",
       "0         0.26         1.23         3.56         16.91                    6  \n",
       "1         0.10         0.56         7.06         -3.47                    6  \n",
       "2         0.13         0.59         3.20         10.05                   10  \n",
       "3         0.20         0.88         4.33         -3.62                   18  \n",
       "4         0.27         1.20         4.57          1.56                    7  "
      ]
     },
     "execution_count": 56,
     "metadata": {},
     "output_type": "execute_result"
    }
   ],
   "source": [
    "df.head()"
   ]
  },
  {
   "cell_type": "code",
   "execution_count": 57,
   "metadata": {},
   "outputs": [
    {
     "data": {
      "text/plain": [
       "array([[11.6 ,  6.4 ,  4.3 , ...,  1.23,  3.56, 16.91],\n",
       "       [15.5 , 10.5 ,  4.9 , ...,  0.56,  7.06, -3.47],\n",
       "       [15.3 ,  6.5 ,  4.2 , ...,  0.59,  3.2 , 10.05],\n",
       "       ...,\n",
       "       [21.  , 10.3 ,  7.  , ...,  0.76,  2.37,  1.97],\n",
       "       [11.  ,  4.8 ,  3.86, ...,  0.51,  2.34,  2.11],\n",
       "       [18.5 ,  5.  ,  3.49, ...,  0.48,  4.01,  1.99]])"
      ]
     },
     "execution_count": 57,
     "metadata": {},
     "output_type": "execute_result"
    }
   ],
   "source": [
    "y = np.array(df['Disease progression'])\n",
    "X = np.array(df.drop(columns='Disease progression'))\n",
    "n = len(X)\n",
    "X"
   ]
  },
  {
   "cell_type": "code",
   "execution_count": 61,
   "metadata": {},
   "outputs": [
    {
     "data": {
      "text/plain": [
       "array([[-0.39452241,  0.32973066,  0.13599835, ...,  0.58355627,\n",
       "        -0.40971102,  1.80051593],\n",
       "       [ 0.53841345,  3.06250605,  0.78879044, ..., -0.84133927,\n",
       "         1.80003087, -0.60474976],\n",
       "       [ 0.49057058,  0.39638372,  0.02719967, ..., -0.77753797,\n",
       "        -0.63699875,  0.99089264],\n",
       "       ...,\n",
       "       [ 1.85409222,  2.92919993,  3.07356275, ..., -0.41599732,\n",
       "        -1.16102326,  0.03728387],\n",
       "       [-0.538051  , -0.73671827, -0.34271585, ..., -0.94767475,\n",
       "        -1.1799639 ,  0.0538068 ],\n",
       "       [ 1.25605642, -0.60341216, -0.74527097, ..., -1.01147604,\n",
       "        -0.12560135,  0.03964429]])"
      ]
     },
     "execution_count": 61,
     "metadata": {},
     "output_type": "execute_result"
    }
   ],
   "source": [
    "X = preprocessing.scale(X)\n",
    "X"
   ]
  },
  {
   "cell_type": "code",
   "execution_count": 62,
   "metadata": {},
   "outputs": [],
   "source": [
    "thresh = n // 2\n",
    "X_train = X[thresh:]\n",
    "y_train = y[thresh:]\n",
    "X_test = X[:thresh]\n",
    "y_test = y[:thresh]"
   ]
  },
  {
   "cell_type": "markdown",
   "metadata": {},
   "source": [
    "\n",
    "### Question 2 : \n",
    "- Mettre en lien X et y a l'aide de la regression lineaire multiple avec une penalisation Lasso\n",
    "- A la vue des resultats, quelle variable vous semble liee a 'Disease progression'?\n",
    "- Verifier cette relation en representant des nuages de points mettant en lien les observations de chaque variable avec les observations de 'Disease progression'\n",
    "\n"
   ]
  },
  {
   "cell_type": "code",
   "execution_count": 67,
   "metadata": {},
   "outputs": [
    {
     "name": "stdout",
     "output_type": "stream",
     "text": [
      "MSE: 18.584978015586522\n",
      "Meilleur alpha: 0.298364724028334, MSE moyenne: 9.704428119530663\n"
     ]
    }
   ],
   "source": [
    "from sklearn.linear_model import Lasso\n",
    "from sklearn.linear_model import LassoCV\n",
    "from sklearn.model_selection import KFold\n",
    "from sklearn.metrics import mean_squared_error\n",
    "\n",
    "# Définir les valeurs d'alpha à tester sur une échelle exponentielle large\n",
    "alphas = np.logspace(-3, 2, 100)\n",
    "\n",
    "kf = KFold(n_splits=8, shuffle=True, random_state=42)\n",
    "\n",
    "lasso_regressor_kf = LassoCV(alphas=alphas, cv=kf, random_state=42)\n",
    "lasso_regressor_kf.fit(X_train, y_train)\n",
    "\n",
    "y_pred_lasso_kf = lasso_regressor_kf.predict(X_test)\n",
    "mse_score_lasso = mean_squared_error(y_test, y_pred_lasso_kf)\n",
    "print(f\"MSE: {mse_score_lasso}\")\n",
    "\n",
    "# Afficher la MSE moyenne pour chaque alpha testé\n",
    "mse_per_alpha = lasso_regressor_kf.mse_path_.mean(axis=1)  # MSE pour chaque alpha à travers les folds\n",
    "for i, alpha in enumerate(lasso_regressor_kf.alphas_):\n",
    "    if(alpha == lasso_regressor_kf.alpha_):\n",
    "        print(f\"Meilleur alpha: {alpha}, MSE moyenne: {mse_per_alpha[i]}\")\n"
   ]
  },
  {
   "cell_type": "code",
   "execution_count": null,
   "metadata": {},
   "outputs": [],
   "source": []
  }
 ],
 "metadata": {
  "anaconda-cloud": {},
  "kernelspec": {
   "display_name": "Python 3 (ipykernel)",
   "language": "python",
   "name": "python3"
  },
  "language_info": {
   "codemirror_mode": {
    "name": "ipython",
    "version": 3
   },
   "file_extension": ".py",
   "mimetype": "text/x-python",
   "name": "python",
   "nbconvert_exporter": "python",
   "pygments_lexer": "ipython3",
   "version": "3.12.6"
  }
 },
 "nbformat": 4,
 "nbformat_minor": 4
}
